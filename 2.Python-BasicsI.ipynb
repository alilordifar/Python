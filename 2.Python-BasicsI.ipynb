{
 "cells": [
  {
   "cell_type": "markdown",
   "id": "4d7d35e1-d066-4231-a1ce-7f635ee5d698",
   "metadata": {},
   "source": [
    "# Time to Start Coding\n",
    "\n",
    "At this point, you should have a working Python 3 interpreter at hand. If you need help getting Python set up correctly, please refer to the previous section on how to interact with Conda.\n",
    "\n",
    "There are several ways to run Python code.\n",
    "\n",
    "* First let's discuss the various options for development environments. There are 3 main types of environments:\n",
    "     1. Text Editors\n",
    "     2. Full IDEs\n",
    "     3. Notebook Environments\n",
    "> **Note:** Development environments are a personal choice highly dependent on personal preference.\n",
    "\n",
    "## Hello, World!\n",
    "\n",
    "There is a long-standing custom in the field of computer programming that the first code written in a newly installed language is a short program that simply displays the string Hello, World! to the console.\n",
    "\n",
    "```\n",
    "print(\"Hello, World!\")\n",
    "```\n",
    "\n",
    "Greate, you have already write your first Python code. Congrats!. "
   ]
  },
  {
   "cell_type": "code",
   "execution_count": 6,
   "id": "ea588740-6220-438b-95cd-c26de90328f3",
   "metadata": {},
   "outputs": [
    {
     "name": "stdout",
     "output_type": "stream",
     "text": [
      "Hello, World!\n"
     ]
    }
   ],
   "source": [
    "print('Hello, World!')"
   ]
  },
  {
   "cell_type": "markdown",
   "id": "90933226-2848-4120-bdfe-bd174654ef10",
   "metadata": {},
   "source": [
    "# Python Variables\n",
    "\n",
    "For storing elements, objects or data values, you will need a container to store those values. This containers are known as variables. A variable is generated when you first assign a value to it. A variable does not need to be declared with any specific *type*, you can even modify type after they have been assigned. \n",
    "\n",
    "**Note:** Variable names are case-sensitive\n"
   ]
  },
  {
   "cell_type": "code",
   "execution_count": 4,
   "id": "6d8528bc-f5ad-46b4-843e-c32c951930ab",
   "metadata": {},
   "outputs": [
    {
     "name": "stdout",
     "output_type": "stream",
     "text": [
      "string\n"
     ]
    }
   ],
   "source": [
    "# Creating a variable\n",
    "variable = 6\n",
    "#Change the variable type\n",
    "variable = \"string\"\n",
    "\n",
    "print(variable)"
   ]
  },
  {
   "cell_type": "markdown",
   "id": "038c15bb-8169-468e-ab47-d5d11722c1f3",
   "metadata": {},
   "source": [
    "## Casting\n",
    "You can specify the data type of a variable using **Casting**."
   ]
  },
  {
   "cell_type": "code",
   "execution_count": 7,
   "id": "e8f0e651-ac9c-4f06-ba2c-30ff667af7b2",
   "metadata": {},
   "outputs": [],
   "source": [
    "a = str(7)\n",
    "b = int(10)\n",
    "c = float(9)"
   ]
  },
  {
   "cell_type": "code",
   "execution_count": 8,
   "id": "aec2112a-faf1-4ea2-8ac3-1ebc52149b62",
   "metadata": {},
   "outputs": [
    {
     "data": {
      "text/plain": [
       "('7', 10, 9.0)"
      ]
     },
     "execution_count": 8,
     "metadata": {},
     "output_type": "execute_result"
    }
   ],
   "source": [
    "a, b, c"
   ]
  },
  {
   "cell_type": "markdown",
   "id": "f37522b4-995d-428f-9634-883b3b14ac06",
   "metadata": {},
   "source": [
    "## Variable Names\n",
    "\n",
    "You can specify a variable name with either a descriptive name like (total_spend, people_age) or a short name like (a, and x). However, there are some rules for Python variables including:\n",
    "\n",
    "1. A variable name must start with a letter or the underscore character\n",
    "2. A variable name cannot start with a number\n",
    "3. A variable name can only contain alpha-numeric characters and underscores (A-z, 0-9, and _)\n",
    "4. Variable names are case-sensitive; hence, a and A are different\n",
    "\n",
    "**Note:** The Style Guide for Python Code is also referred to as PEP 8. PEP stands for Python Enhancement Proposal. PEPs are documents that contain details about features, standards, design issues, general guidelines, and information relating to Python. For more information, see the Python Software Foundation Index of PEPs."
   ]
  },
  {
   "cell_type": "code",
   "execution_count": 9,
   "id": "ca6b5ce1-d30a-44b7-a674-cd00cda3adf4",
   "metadata": {},
   "outputs": [],
   "source": [
    "variable = 'Ali'\n",
    "_variable = 2\n",
    "Variable = 30\n",
    "VARIABLE = 'Lordi'"
   ]
  },
  {
   "cell_type": "code",
   "execution_count": 10,
   "id": "416660e6-fea1-48f5-be8b-e949560e775c",
   "metadata": {},
   "outputs": [
    {
     "data": {
      "text/plain": [
       "('Ali', 2, 30, 'Lordi')"
      ]
     },
     "execution_count": 10,
     "metadata": {},
     "output_type": "execute_result"
    }
   ],
   "source": [
    "variable, _variable, Variable, VARIABLE"
   ]
  },
  {
   "cell_type": "markdown",
   "id": "1952a0a3-95e5-4f97-b1c0-476fdec85e65",
   "metadata": {},
   "source": [
    "## Multi Words Variable Names\n",
    "It's the best practice to not assign more than one word to a varoable because of the readability. Python provides some guidance to make your variables more readable.\n",
    "\n",
    "### Camel Case\n",
    "Each word, except the first one, starts with a capital letter\n",
    "### Pascal Case \n",
    "Each word starts with a capital letter\n",
    "### Snake Case\n",
    "Each word is separated by an underscore character "
   ]
  },
  {
   "cell_type": "code",
   "execution_count": 11,
   "id": "b25f68d7-297a-468c-ba3d-9b30930d1508",
   "metadata": {},
   "outputs": [],
   "source": [
    "camelCase = 30\n",
    "PascalCase = 'Ali'\n",
    "snake_case = 45"
   ]
  },
  {
   "cell_type": "markdown",
   "id": "e44a2662-16fd-4ad0-849f-8f7ab1745360",
   "metadata": {},
   "source": [
    "## Many Values to Multiple Variables / Multiple Variables to One Value \n",
    "You can assign more than one values to multiple variables in Python. On the other hand, Python allows you to assign the same value to multiple variables. "
   ]
  },
  {
   "cell_type": "code",
   "execution_count": 15,
   "id": "8ef875a6-4864-406d-836e-7357e98cd051",
   "metadata": {},
   "outputs": [
    {
     "name": "stdout",
     "output_type": "stream",
     "text": [
      "20\n",
      "30\n",
      "40\n",
      "It is a string\n",
      "It is a string\n",
      "It is a string\n"
     ]
    }
   ],
   "source": [
    "# Many Values to Multiple Variables\n",
    "a, b, c = 20, 30, 40\n",
    "print(a)\n",
    "print(b)\n",
    "print(c)\n",
    "# Multiple Variables to One Value \n",
    "d = e = f = 'It is a string'\n",
    "print(d)\n",
    "print(e)\n",
    "print(f)"
   ]
  },
  {
   "cell_type": "markdown",
   "id": "97a8bb46-8785-465a-80a6-c9ab4e5c148d",
   "metadata": {},
   "source": [
    "## Collection Unpacking\n",
    "If you have a bunch of values in a tuple, list, etc. you can retrieve the values into variables in Python. It is called *unpacking*."
   ]
  },
  {
   "cell_type": "code",
   "execution_count": 16,
   "id": "98c4e431-750e-4861-a7bd-d370891cd3d2",
   "metadata": {},
   "outputs": [
    {
     "name": "stdout",
     "output_type": "stream",
     "text": [
      "Gucci\n",
      "LV\n",
      "Omega\n"
     ]
    }
   ],
   "source": [
    "brands = ['Gucci', 'LV', 'Omega']\n",
    "brand1, brand2, brand3 = brands\n",
    "print(brand1)\n",
    "print(brand2)\n",
    "print(brand3)"
   ]
  },
  {
   "cell_type": "markdown",
   "id": "62bcc145-3e2b-4040-93d6-75fbfbb87ffe",
   "metadata": {},
   "source": [
    "## Global Variables\n",
    "Variables that you will create outside a function are called *global variables*. They can be used by everyone, either inside or outside a function.\n",
    "\n",
    "**Note:** You can use the *global* keyword to make a local variable globally accessible. Conversely, you can use the global keyword if you want to modify a global variable inside a function."
   ]
  },
  {
   "cell_type": "code",
   "execution_count": 27,
   "id": "8cafbaf2-2566-4d92-854d-3c7bd9c52601",
   "metadata": {},
   "outputs": [
    {
     "name": "stdout",
     "output_type": "stream",
     "text": [
      "The global variable is:  30\n"
     ]
    }
   ],
   "source": [
    "def func():\n",
    "    global a\n",
    "    a = 30\n",
    "func()\n",
    "print(\"The global variable is: \",a)"
   ]
  },
  {
   "cell_type": "code",
   "execution_count": 30,
   "id": "05c3368e-6d0a-40bf-a91d-863c32a6ce73",
   "metadata": {},
   "outputs": [
    {
     "name": "stdout",
     "output_type": "stream",
     "text": [
      "The output is  var2\n"
     ]
    }
   ],
   "source": [
    "b = \"var1\"\n",
    "\n",
    "def func():\n",
    "    global b\n",
    "    b = \"var2\"\n",
    "\n",
    "func()\n",
    "\n",
    "print(\"The output is \" , b)"
   ]
  },
  {
   "cell_type": "markdown",
   "id": "f3cd75ba-5b33-41a8-98ca-424879b3df3b",
   "metadata": {},
   "source": [
    "# Python Built-in Data Types\n",
    "Data type is an important term in any programming languages. Variables are able to store data of various types, and each type have its own usage according to your application. \n",
    "\n",
    "Python has the following different built-in data types:\n",
    "\n",
    "1. Text Type: *String (str)*\n",
    "2. Numeric Types: *integer (int)*, *float*, *complex*\n",
    "3. Sequence Types: *list*, *tuple*, *range*\n",
    "4. Mapping Types (Storing key/value pairs): *Dictionary (dict)* \n",
    "5. Set Types: *set*, *frozenset*\n",
    "6. Boolean Type: *bool*\n",
    "7. Binary Types: *bytes*, *bytearray*, *memoryview*\n",
    "8. None Type: *NoneType*\n",
    "\n",
    "We will go through all the data types in depth later on in this course."
   ]
  },
  {
   "cell_type": "code",
   "execution_count": 31,
   "id": "82f862c0-976f-499b-b5f7-5df535a91189",
   "metadata": {},
   "outputs": [
    {
     "data": {
      "text/plain": [
       "int"
      ]
     },
     "execution_count": 31,
     "metadata": {},
     "output_type": "execute_result"
    }
   ],
   "source": [
    "# getting the type of the Object using type()\n",
    "var = int(10)\n",
    "type(var)"
   ]
  },
  {
   "cell_type": "code",
   "execution_count": 32,
   "id": "94a80266-26d2-467f-8579-43e18dc3d412",
   "metadata": {},
   "outputs": [
    {
     "data": {
      "text/plain": [
       "list"
      ]
     },
     "execution_count": 32,
     "metadata": {},
     "output_type": "execute_result"
    }
   ],
   "source": [
    "mylist = [1, 2, 3]\n",
    "type(mylist)"
   ]
  },
  {
   "cell_type": "code",
   "execution_count": 33,
   "id": "69d5830f-5dc4-42c4-a8e0-21a838375e64",
   "metadata": {},
   "outputs": [],
   "source": [
    "a = {1, 2, 3}"
   ]
  },
  {
   "cell_type": "code",
   "execution_count": 36,
   "id": "8f3fdd8e-3c0b-412e-ac63-61ee1a5a18a6",
   "metadata": {},
   "outputs": [
    {
     "data": {
      "text/plain": [
       "set"
      ]
     },
     "execution_count": 36,
     "metadata": {},
     "output_type": "execute_result"
    }
   ],
   "source": [
    "type(a)"
   ]
  },
  {
   "cell_type": "markdown",
   "id": "95260f86-f166-410e-9b2e-23324234375c",
   "metadata": {},
   "source": [
    "# Numbers in Python\n",
    "There are different types of numbers in Python, including integers, floats, complex, and random numbers.\n",
    "\n",
    "## Random Numbers in Python\n",
    "Python does not have any random function by itself; however, it has a built-in module named *random* that can be used to generate random numbers. "
   ]
  },
  {
   "cell_type": "code",
   "execution_count": 38,
   "id": "0539a5fe-3386-4986-9029-9dbabbef5bf2",
   "metadata": {},
   "outputs": [
    {
     "name": "stdout",
     "output_type": "stream",
     "text": [
      "1\n",
      "1.0\n",
      "1j\n"
     ]
    }
   ],
   "source": [
    "# integer\n",
    "integer = 1\n",
    "# Float\n",
    "flt = 1.0\n",
    "# Complex\n",
    "complx = 1j\n",
    "\n",
    "print(integer)\n",
    "print(flt)\n",
    "print(complx)"
   ]
  },
  {
   "cell_type": "code",
   "execution_count": 40,
   "id": "f78f9b91-ff96-44cc-b6da-34197fe9a498",
   "metadata": {},
   "outputs": [
    {
     "data": {
      "text/plain": [
       "8"
      ]
     },
     "execution_count": 40,
     "metadata": {},
     "output_type": "execute_result"
    }
   ],
   "source": [
    "# random \n",
    "import random\n",
    "# Create a random number in a specified interval\n",
    "random.randrange(1, 10)"
   ]
  },
  {
   "cell_type": "markdown",
   "id": "159599d2-b77f-45ca-91e5-1302eda9cadb",
   "metadata": {},
   "source": [
    "# Booleans\n",
    "Booleans refer to either *True* or *False*.\n",
    "Generally, in programming you might need to know wether an expression is **True** or **False**. Sometimes comparing two values is important for us; therefore, the expression is evaluated and Python return a Boolean result. "
   ]
  },
  {
   "cell_type": "code",
   "execution_count": 43,
   "id": "8bb28115-4c83-4ccd-a016-5a5d0b3c10eb",
   "metadata": {},
   "outputs": [
    {
     "name": "stdout",
     "output_type": "stream",
     "text": [
      "False\n",
      "False\n",
      "False\n",
      "True\n"
     ]
    }
   ],
   "source": [
    "print(100 > 243)\n",
    "print(25 == 80)\n",
    "print('Ali' == 'ali')\n",
    "print('python' == 'python')"
   ]
  },
  {
   "cell_type": "markdown",
   "id": "6be63f83-0a13-4a78-abba-8d9c22507216",
   "metadata": {},
   "source": [
    "## Variables and Values Evaluation\n",
    "\n",
    "One can use the *bool()* function to evaluate any value or variable, and it returns either True or False.\n",
    "\n",
    "**Note:** Most values are evaluated as True except the following ones:\n",
    "1. False\n",
    "2. empty values such as (), [], {}, 0, and None value. \n",
    "\n",
    "**Note:** Functions also can returns a boolean. (We will cover the functions later)"
   ]
  },
  {
   "cell_type": "code",
   "execution_count": 45,
   "id": "907baf35-0bcf-4510-a73e-9496c61f435c",
   "metadata": {},
   "outputs": [
    {
     "name": "stdout",
     "output_type": "stream",
     "text": [
      "False\n",
      "False\n",
      "False\n",
      "False\n",
      "False\n",
      "False\n"
     ]
    }
   ],
   "source": [
    "print(bool(0))\n",
    "print(bool(False))\n",
    "print(bool([]))\n",
    "print(bool({}))\n",
    "print(bool(()))\n",
    "print(bool(None))"
   ]
  },
  {
   "cell_type": "code",
   "execution_count": 46,
   "id": "18edc2ab-0157-47b3-a3dc-aa3ec1a08e38",
   "metadata": {},
   "outputs": [],
   "source": [
    "def myfunc():\n",
    "    return True"
   ]
  },
  {
   "cell_type": "code",
   "execution_count": 47,
   "id": "ddf1ca01-62bf-442c-9f66-ec19c4495ba3",
   "metadata": {},
   "outputs": [
    {
     "data": {
      "text/plain": [
       "True"
      ]
     },
     "execution_count": 47,
     "metadata": {},
     "output_type": "execute_result"
    }
   ],
   "source": [
    "myfunc()"
   ]
  },
  {
   "cell_type": "markdown",
   "id": "081753c4-cba3-427a-884f-2ffad7ccf958",
   "metadata": {},
   "source": [
    "# Operators in Python\n",
    "\n",
    "Operators in Python are used to perform operations on variables and values.\n",
    "Operators are divided into the following groups in Python:\n",
    "\n",
    "1. Arithmetic operators\n",
    "2. Assignment operators\n",
    "3. Comparison operators\n",
    "4. Logical operators\n",
    "5. Identity operators\n",
    "6. Membership operators\n",
    "7. Bitwise operators\n",
    "\n",
    "## Arithmetic Operators\n",
    "Arithmetic operators are used for performing arithmatic operations such as addition(+), subtraction(-), multiplication(*), division(/), modulus(%), exponentiation(**), and floor division (//) in Python. \n",
    "\n",
    "## Assignment Operators\n",
    "Assignment operators are used to assign values to variables:\n",
    "- =\n",
    "- += \n",
    "- -= \n",
    "- *=\n",
    "- /=\n",
    "- %=\n",
    "- //=\n",
    "- **=\n",
    "- more\n",
    "\n",
    "## Comparison Operators\n",
    "Comparison operators are used to compare two values.\n",
    "\n",
    "- == \n",
    "- !=\n",
    "- >\n",
    "- <\n",
    "- >=\n",
    "- <=\n",
    "\n",
    "## Logical Operators\n",
    "Logical operators are used to combine conditional statements:\n",
    "- and\n",
    "- or \n",
    "- not\n",
    "\n",
    "## Identity Operators\n",
    "Identity operators are used to compare the objects, not if they are equal, but if they are actually the same object, with the same memory location:\n",
    "- is\n",
    "- is not\n",
    "\n",
    "## Membership Operators\n",
    "Membership operators are used to test if a sequence is presented in an object:\n",
    "- in\n",
    "- not in\n",
    "\n",
    "## Bitwise Operators\n",
    "Bitwise operators are used to compare (binary) numbers:\n",
    "- & AND\n",
    "- | OR\n",
    "- ^ XOR\n",
    "- ~ NOT\n",
    "- (<<) Zero fill left shift - Shift left by pushing zeros in from the right and let the leftmost bits fall off\n",
    "\n",
    "-  (>>) Signed right shift - Shift right by pushing copies of the leftmost bit in from the left, and let the rightmost bits fall off "
   ]
  },
  {
   "cell_type": "code",
   "execution_count": 1,
   "id": "0932e03b-785d-4084-97c7-64dae23fe4f3",
   "metadata": {},
   "outputs": [],
   "source": []
  }
 ],
 "metadata": {
  "kernelspec": {
   "display_name": "Python 3",
   "language": "python",
   "name": "python3"
  },
  "language_info": {
   "codemirror_mode": {
    "name": "ipython",
    "version": 3
   },
   "file_extension": ".py",
   "mimetype": "text/x-python",
   "name": "python",
   "nbconvert_exporter": "python",
   "pygments_lexer": "ipython3",
   "version": "3.8.8"
  }
 },
 "nbformat": 4,
 "nbformat_minor": 5
}
